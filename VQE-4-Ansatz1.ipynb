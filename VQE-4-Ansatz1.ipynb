{
 "cells": [
  {
   "cell_type": "code",
   "execution_count": 1,
   "metadata": {
    "collapsed": false,
    "jupyter": {
     "outputs_hidden": false
    }
   },
   "outputs": [],
   "source": [
    "# This cell is added by sphinx-gallery\n",
    "# It can be customized to whatever you like\n",
    "%matplotlib inline"
   ]
  },
  {
   "cell_type": "code",
   "execution_count": 2,
   "metadata": {
    "collapsed": false,
    "jupyter": {
     "outputs_hidden": false
    }
   },
   "outputs": [],
   "source": [
    "from jax import numpy as np\n",
    "import jax\n",
    "jax.config.update(\"jax_platform_name\", \"cpu\")\n",
    "jax.config.update('jax_enable_x64', True)"
   ]
  },
  {
   "cell_type": "code",
   "execution_count": 3,
   "metadata": {
    "collapsed": false,
    "jupyter": {
     "outputs_hidden": false
    }
   },
   "outputs": [
    {
     "name": "stdout",
     "output_type": "stream",
     "text": [
      "Number of qubits =  8\n"
     ]
    }
   ],
   "source": [
    "import pennylane as qml\n",
    "import pickle\n",
    "\n",
    "with open('qubits_acai_4.pkl', 'rb') as file:\n",
    "    qubits = pickle.load(file)\n",
    "    \n",
    "with open('H_acai_4.pkl', 'rb') as fp:\n",
    "    H = pickle.load(fp) \n",
    "print(\"Number of qubits = \", qubits)"
   ]
  },
  {
   "cell_type": "markdown",
   "metadata": {},
   "source": [
    "Implementing the VQE algorithm\n",
    "==============================\n",
    "\n",
    "From here on, we can use PennyLane as usual, employing its entire stack\n",
    "of algorithms and optimizers. We begin by defining the device, in this\n",
    "case PennyLane's standard qubit simulator:\n"
   ]
  },
  {
   "cell_type": "code",
   "execution_count": 4,
   "metadata": {
    "collapsed": false,
    "jupyter": {
     "outputs_hidden": false
    }
   },
   "outputs": [],
   "source": [
    "dev = qml.device(\"lightning.qubit\", wires=qubits)"
   ]
  },
  {
   "cell_type": "code",
   "execution_count": 5,
   "metadata": {
    "collapsed": false,
    "jupyter": {
     "outputs_hidden": false
    }
   },
   "outputs": [
    {
     "name": "stdout",
     "output_type": "stream",
     "text": [
      "[1 1 1 1 0 0 0 0]\n"
     ]
    }
   ],
   "source": [
    "electrons = 4\n",
    "hf = qml.qchem.hf_state(electrons, qubits)\n",
    "print(hf)"
   ]
  },
  {
   "cell_type": "markdown",
   "metadata": {},
   "source": [
    "The `hf` array is used by the `~.pennylane.BasisState`{.interpreted-text\n",
    "role=\"class\"} operation to initialize the qubit register. Then, we just\n",
    "act with the `~.pennylane.DoubleExcitation`{.interpreted-text\n",
    "role=\"class\"} operation on the four qubits. The next step is to compute\n",
    "the expectation value of the molecular Hamiltonian in the trial state\n",
    "prepared by the circuit. We do this using the\n",
    "`~.expval`{.interpreted-text role=\"func\"} function. The decorator syntax\n",
    "allows us to run the cost function as an executable QNode with the gate\n",
    "parameter $\\theta$:\n"
   ]
  },
  {
   "cell_type": "code",
   "execution_count": 6,
   "metadata": {
    "collapsed": false,
    "jupyter": {
     "outputs_hidden": false
    }
   },
   "outputs": [],
   "source": [
    "@qml.qnode(dev)\n",
    "def circuit(param, wires):\n",
    "    qml.BasisState(hf, wires=wires) \n",
    "    qml.DoubleExcitation(param, wires=[0, 1, 4, 5])\n",
    "    qml.DoubleExcitation(param, wires=[0, 1, 6, 7])\n",
    "    qml.DoubleExcitation(param, wires=[2, 3, 4, 5])\n",
    "    qml.DoubleExcitation(param, wires=[2, 3, 6, 7])\n",
    "    return qml.expval(H)"
   ]
  },
  {
   "cell_type": "markdown",
   "metadata": {},
   "source": [
    "We can now define our error function simply as the expected value\n",
    "calculated above:\n"
   ]
  },
  {
   "cell_type": "code",
   "execution_count": 7,
   "metadata": {
    "collapsed": false,
    "jupyter": {
     "outputs_hidden": false
    }
   },
   "outputs": [],
   "source": [
    "def cost_fn(param):\n",
    "    return circuit(param, wires=range(qubits))"
   ]
  },
  {
   "cell_type": "markdown",
   "metadata": {},
   "source": [
    "Now we proceed to minimize the cost function to find the ground state of\n",
    "the $\\mathrm{H}_2$ molecule. To start, we need to define the classical\n",
    "optimizer. The library `optax` offers different\n",
    "[optimizers](https://optax.readthedocs.io/en/latest/api.html). Here we\n",
    "use a basic gradient-descent optimizer. We carry out the optimization\n",
    "over a maximum of 100 steps aiming to reach a convergence tolerance of\n",
    "$10^{-6}$ for the value of the cost function.\n"
   ]
  },
  {
   "cell_type": "code",
   "execution_count": 8,
   "metadata": {
    "collapsed": false,
    "jupyter": {
     "outputs_hidden": false
    }
   },
   "outputs": [],
   "source": [
    "import optax\n",
    "\n",
    "max_iterations = 1000\n",
    "conv_tol = 1e-8\n",
    "\n",
    "opt = optax.sgd(learning_rate=0.5)"
   ]
  },
  {
   "cell_type": "markdown",
   "metadata": {},
   "source": [
    "We initialize the circuit parameter $\\theta$ to zero, meaning that we\n",
    "start from the Hartree-Fock state.\n"
   ]
  },
  {
   "cell_type": "code",
   "execution_count": 9,
   "metadata": {
    "collapsed": false,
    "jupyter": {
     "outputs_hidden": false
    }
   },
   "outputs": [
    {
     "name": "stderr",
     "output_type": "stream",
     "text": [
      "An NVIDIA GPU may be present on this machine, but a CUDA-enabled jaxlib is not installed. Falling back to cpu.\n",
      "/home/gleydson.jesus/.local/lib/python3.9/site-packages/pennylane/math/utils.py:227: UserWarning: Contains tensors of types {'jax', 'autograd'}; dispatch will prioritize TensorFlow, PyTorch, and  Jax over Autograd. Consider replacing Autograd with vanilla NumPy.\n",
      "  warnings.warn(\n"
     ]
    },
    {
     "name": "stdout",
     "output_type": "stream",
     "text": [
      "Step = 0,  Energy = -544.67547767 Ha\n",
      "Step = 2,  Energy = -544.67549368 Ha\n",
      "Step = 4,  Energy = -544.67568420 Ha\n",
      "Step = 6,  Energy = -544.67794870 Ha\n",
      "Step = 8,  Energy = -544.70445836 Ha\n",
      "Step = 10,  Energy = -544.96654098 Ha\n",
      "Step = 12,  Energy = -545.79552698 Ha\n",
      "Step = 14,  Energy = -546.07070731 Ha\n",
      "Step = 16,  Energy = -546.11776165 Ha\n",
      "Step = 18,  Energy = -546.13215236 Ha\n",
      "Step = 20,  Energy = -546.13828756 Ha\n",
      "Step = 22,  Energy = -546.14144566 Ha\n",
      "Step = 24,  Energy = -546.14327917 Ha\n",
      "Step = 26,  Energy = -546.14443623 Ha\n",
      "Step = 28,  Energy = -546.14521248 Ha\n",
      "Step = 30,  Energy = -546.14575820 Ha\n",
      "Step = 32,  Energy = -546.14615628 Ha\n",
      "Step = 34,  Energy = -546.14645550 Ha\n",
      "Step = 36,  Energy = -546.14668603 Ha\n",
      "Step = 38,  Energy = -546.14686738 Ha\n",
      "Step = 40,  Energy = -546.14701257 Ha\n",
      "Step = 42,  Energy = -546.14713061 Ha\n",
      "Step = 44,  Energy = -546.14722785 Ha\n",
      "Step = 46,  Energy = -546.14730891 Ha\n",
      "Step = 48,  Energy = -546.14737718 Ha\n",
      "Step = 50,  Energy = -546.14743520 Ha\n",
      "Step = 52,  Energy = -546.14748494 Ha\n",
      "Step = 54,  Energy = -546.14752788 Ha\n",
      "Step = 56,  Energy = -546.14756522 Ha\n",
      "Step = 58,  Energy = -546.14759788 Ha\n",
      "Step = 60,  Energy = -546.14762661 Ha\n",
      "Step = 62,  Energy = -546.14765202 Ha\n",
      "Step = 64,  Energy = -546.14767460 Ha\n",
      "Step = 66,  Energy = -546.14769475 Ha\n",
      "Step = 68,  Energy = -546.14771281 Ha\n",
      "Step = 70,  Energy = -546.14772905 Ha\n",
      "Step = 72,  Energy = -546.14774372 Ha\n",
      "Step = 74,  Energy = -546.14775700 Ha\n",
      "Step = 76,  Energy = -546.14776907 Ha\n",
      "Step = 78,  Energy = -546.14778007 Ha\n",
      "Step = 80,  Energy = -546.14779012 Ha\n",
      "Step = 82,  Energy = -546.14779933 Ha\n",
      "Step = 84,  Energy = -546.14780778 Ha\n",
      "Step = 86,  Energy = -546.14781557 Ha\n",
      "Step = 88,  Energy = -546.14782275 Ha\n",
      "Step = 90,  Energy = -546.14782939 Ha\n",
      "Step = 92,  Energy = -546.14783554 Ha\n",
      "Step = 94,  Energy = -546.14784124 Ha\n",
      "Step = 96,  Energy = -546.14784655 Ha\n",
      "Step = 98,  Energy = -546.14785149 Ha\n",
      "Step = 100,  Energy = -546.14785609 Ha\n",
      "Step = 102,  Energy = -546.14786040 Ha\n",
      "Step = 104,  Energy = -546.14786442 Ha\n",
      "Step = 106,  Energy = -546.14786820 Ha\n",
      "Step = 108,  Energy = -546.14787174 Ha\n",
      "Step = 110,  Energy = -546.14787506 Ha\n",
      "Step = 112,  Energy = -546.14787819 Ha\n",
      "Step = 114,  Energy = -546.14788113 Ha\n",
      "Step = 116,  Energy = -546.14788391 Ha\n",
      "Step = 118,  Energy = -546.14788653 Ha\n",
      "Step = 120,  Energy = -546.14788900 Ha\n",
      "Step = 122,  Energy = -546.14789134 Ha\n",
      "Step = 124,  Energy = -546.14789356 Ha\n",
      "Step = 126,  Energy = -546.14789566 Ha\n",
      "Step = 128,  Energy = -546.14789765 Ha\n",
      "Step = 130,  Energy = -546.14789954 Ha\n",
      "Step = 132,  Energy = -546.14790134 Ha\n",
      "Step = 134,  Energy = -546.14790305 Ha\n",
      "Step = 136,  Energy = -546.14790467 Ha\n",
      "Step = 138,  Energy = -546.14790622 Ha\n",
      "Step = 140,  Energy = -546.14790770 Ha\n",
      "Step = 142,  Energy = -546.14790910 Ha\n",
      "Step = 144,  Energy = -546.14791045 Ha\n",
      "Step = 146,  Energy = -546.14791173 Ha\n",
      "Step = 148,  Energy = -546.14791296 Ha\n",
      "Step = 150,  Energy = -546.14791413 Ha\n",
      "Step = 152,  Energy = -546.14791525 Ha\n",
      "Step = 154,  Energy = -546.14791633 Ha\n",
      "Step = 156,  Energy = -546.14791736 Ha\n",
      "Step = 158,  Energy = -546.14791835 Ha\n",
      "Step = 160,  Energy = -546.14791929 Ha\n",
      "Step = 162,  Energy = -546.14792020 Ha\n",
      "Step = 164,  Energy = -546.14792108 Ha\n",
      "Step = 166,  Energy = -546.14792192 Ha\n",
      "Step = 168,  Energy = -546.14792272 Ha\n",
      "Step = 170,  Energy = -546.14792350 Ha\n",
      "Step = 172,  Energy = -546.14792425 Ha\n",
      "Step = 174,  Energy = -546.14792496 Ha\n",
      "Step = 176,  Energy = -546.14792566 Ha\n",
      "Step = 178,  Energy = -546.14792632 Ha\n",
      "Step = 180,  Energy = -546.14792697 Ha\n",
      "Step = 182,  Energy = -546.14792759 Ha\n",
      "Step = 184,  Energy = -546.14792818 Ha\n",
      "Step = 186,  Energy = -546.14792876 Ha\n",
      "Step = 188,  Energy = -546.14792932 Ha\n",
      "Step = 190,  Energy = -546.14792986 Ha\n",
      "Step = 192,  Energy = -546.14793038 Ha\n",
      "Step = 194,  Energy = -546.14793088 Ha\n",
      "Step = 196,  Energy = -546.14793137 Ha\n",
      "Step = 198,  Energy = -546.14793184 Ha\n",
      "Step = 200,  Energy = -546.14793229 Ha\n",
      "Step = 202,  Energy = -546.14793273 Ha\n",
      "Step = 204,  Energy = -546.14793316 Ha\n",
      "Step = 206,  Energy = -546.14793357 Ha\n",
      "Step = 208,  Energy = -546.14793397 Ha\n",
      "Step = 210,  Energy = -546.14793436 Ha\n",
      "Step = 212,  Energy = -546.14793473 Ha\n",
      "Step = 214,  Energy = -546.14793510 Ha\n",
      "Step = 216,  Energy = -546.14793545 Ha\n",
      "Step = 218,  Energy = -546.14793580 Ha\n",
      "Step = 220,  Energy = -546.14793613 Ha\n",
      "Step = 222,  Energy = -546.14793645 Ha\n",
      "Step = 224,  Energy = -546.14793677 Ha\n",
      "Step = 226,  Energy = -546.14793707 Ha\n",
      "Step = 228,  Energy = -546.14793737 Ha\n",
      "Step = 230,  Energy = -546.14793766 Ha\n",
      "Step = 232,  Energy = -546.14793794 Ha\n",
      "Step = 234,  Energy = -546.14793821 Ha\n",
      "Step = 236,  Energy = -546.14793848 Ha\n",
      "Step = 238,  Energy = -546.14793873 Ha\n",
      "Step = 240,  Energy = -546.14793898 Ha\n",
      "Step = 242,  Energy = -546.14793923 Ha\n",
      "Step = 244,  Energy = -546.14793947 Ha\n",
      "Step = 246,  Energy = -546.14793970 Ha\n",
      "Step = 248,  Energy = -546.14793992 Ha\n",
      "Step = 250,  Energy = -546.14794014 Ha\n",
      "Step = 252,  Energy = -546.14794036 Ha\n",
      "Step = 254,  Energy = -546.14794057 Ha\n",
      "Step = 256,  Energy = -546.14794077 Ha\n",
      "Step = 258,  Energy = -546.14794097 Ha\n",
      "Step = 260,  Energy = -546.14794116 Ha\n",
      "Step = 262,  Energy = -546.14794135 Ha\n",
      "Step = 264,  Energy = -546.14794153 Ha\n",
      "Step = 266,  Energy = -546.14794171 Ha\n",
      "Step = 268,  Energy = -546.14794189 Ha\n",
      "Step = 270,  Energy = -546.14794206 Ha\n",
      "Step = 272,  Energy = -546.14794223 Ha\n",
      "Step = 274,  Energy = -546.14794239 Ha\n",
      "Step = 276,  Energy = -546.14794255 Ha\n",
      "Step = 278,  Energy = -546.14794270 Ha\n",
      "Step = 280,  Energy = -546.14794286 Ha\n",
      "Step = 282,  Energy = -546.14794300 Ha\n",
      "Step = 284,  Energy = -546.14794315 Ha\n",
      "Step = 286,  Energy = -546.14794329 Ha\n",
      "Step = 288,  Energy = -546.14794343 Ha\n",
      "Step = 290,  Energy = -546.14794357 Ha\n",
      "Step = 292,  Energy = -546.14794370 Ha\n",
      "Step = 294,  Energy = -546.14794383 Ha\n",
      "Step = 296,  Energy = -546.14794395 Ha\n",
      "Step = 298,  Energy = -546.14794408 Ha\n",
      "Step = 300,  Energy = -546.14794420 Ha\n",
      "Step = 302,  Energy = -546.14794432 Ha\n",
      "Step = 304,  Energy = -546.14794443 Ha\n",
      "Step = 306,  Energy = -546.14794455 Ha\n",
      "Step = 308,  Energy = -546.14794466 Ha\n",
      "Step = 310,  Energy = -546.14794477 Ha\n",
      "Step = 312,  Energy = -546.14794488 Ha\n",
      "Step = 314,  Energy = -546.14794498 Ha\n",
      "Step = 316,  Energy = -546.14794508 Ha\n",
      "Step = 318,  Energy = -546.14794518 Ha\n",
      "Step = 320,  Energy = -546.14794528 Ha\n",
      "Step = 322,  Energy = -546.14794538 Ha\n",
      "Step = 324,  Energy = -546.14794547 Ha\n",
      "Step = 326,  Energy = -546.14794557 Ha\n",
      "Step = 328,  Energy = -546.14794566 Ha\n",
      "Step = 330,  Energy = -546.14794575 Ha\n",
      "Step = 332,  Energy = -546.14794583 Ha\n",
      "Step = 334,  Energy = -546.14794592 Ha\n",
      "Step = 336,  Energy = -546.14794600 Ha\n",
      "Step = 338,  Energy = -546.14794608 Ha\n",
      "Step = 340,  Energy = -546.14794617 Ha\n",
      "Step = 342,  Energy = -546.14794624 Ha\n",
      "Step = 344,  Energy = -546.14794632 Ha\n",
      "Step = 346,  Energy = -546.14794640 Ha\n",
      "Step = 348,  Energy = -546.14794647 Ha\n",
      "Step = 350,  Energy = -546.14794655 Ha\n",
      "Step = 352,  Energy = -546.14794662 Ha\n",
      "Step = 354,  Energy = -546.14794669 Ha\n",
      "Step = 356,  Energy = -546.14794676 Ha\n",
      "Step = 358,  Energy = -546.14794683 Ha\n",
      "Step = 360,  Energy = -546.14794689 Ha\n",
      "Step = 362,  Energy = -546.14794696 Ha\n",
      "Step = 364,  Energy = -546.14794702 Ha\n",
      "Step = 366,  Energy = -546.14794709 Ha\n",
      "Step = 368,  Energy = -546.14794715 Ha\n",
      "Step = 370,  Energy = -546.14794721 Ha\n",
      "Step = 372,  Energy = -546.14794727 Ha\n",
      "Step = 374,  Energy = -546.14794733 Ha\n",
      "Step = 376,  Energy = -546.14794739 Ha\n",
      "Step = 378,  Energy = -546.14794745 Ha\n",
      "Step = 380,  Energy = -546.14794750 Ha\n",
      "Step = 382,  Energy = -546.14794756 Ha\n",
      "Step = 384,  Energy = -546.14794761 Ha\n",
      "Step = 386,  Energy = -546.14794767 Ha\n",
      "Step = 388,  Energy = -546.14794772 Ha\n",
      "Step = 390,  Energy = -546.14794777 Ha\n",
      "Step = 392,  Energy = -546.14794782 Ha\n",
      "Step = 394,  Energy = -546.14794787 Ha\n",
      "Step = 396,  Energy = -546.14794792 Ha\n",
      "Step = 398,  Energy = -546.14794797 Ha\n",
      "Step = 400,  Energy = -546.14794802 Ha\n",
      "Step = 402,  Energy = -546.14794806 Ha\n",
      "Step = 404,  Energy = -546.14794811 Ha\n",
      "Step = 406,  Energy = -546.14794815 Ha\n",
      "Step = 408,  Energy = -546.14794820 Ha\n",
      "Step = 410,  Energy = -546.14794824 Ha\n",
      "Step = 412,  Energy = -546.14794828 Ha\n",
      "Step = 414,  Energy = -546.14794833 Ha\n",
      "Step = 416,  Energy = -546.14794837 Ha\n",
      "Step = 418,  Energy = -546.14794841 Ha\n",
      "Step = 420,  Energy = -546.14794845 Ha\n",
      "Step = 422,  Energy = -546.14794849 Ha\n",
      "Step = 424,  Energy = -546.14794853 Ha\n",
      "Step = 426,  Energy = -546.14794857 Ha\n",
      "Step = 428,  Energy = -546.14794861 Ha\n",
      "Step = 430,  Energy = -546.14794864 Ha\n",
      "Step = 432,  Energy = -546.14794868 Ha\n",
      "Step = 434,  Energy = -546.14794872 Ha\n",
      "Step = 436,  Energy = -546.14794875 Ha\n",
      "Step = 438,  Energy = -546.14794879 Ha\n",
      "Step = 440,  Energy = -546.14794882 Ha\n",
      "Step = 442,  Energy = -546.14794886 Ha\n",
      "Step = 444,  Energy = -546.14794889 Ha\n",
      "Step = 446,  Energy = -546.14794892 Ha\n",
      "Step = 448,  Energy = -546.14794896 Ha\n",
      "Step = 450,  Energy = -546.14794899 Ha\n",
      "Step = 452,  Energy = -546.14794902 Ha\n",
      "Step = 454,  Energy = -546.14794905 Ha\n",
      "Step = 456,  Energy = -546.14794908 Ha\n",
      "Step = 458,  Energy = -546.14794911 Ha\n",
      "Step = 460,  Energy = -546.14794914 Ha\n",
      "Step = 462,  Energy = -546.14794917 Ha\n",
      "Step = 464,  Energy = -546.14794920 Ha\n",
      "Step = 466,  Energy = -546.14794923 Ha\n",
      "Step = 468,  Energy = -546.14794926 Ha\n",
      "Step = 470,  Energy = -546.14794929 Ha\n",
      "Step = 472,  Energy = -546.14794931 Ha\n",
      "Step = 474,  Energy = -546.14794934 Ha\n",
      "Step = 476,  Energy = -546.14794937 Ha\n",
      "Step = 478,  Energy = -546.14794940 Ha\n",
      "Step = 480,  Energy = -546.14794942 Ha\n",
      "Step = 482,  Energy = -546.14794945 Ha\n",
      "Step = 484,  Energy = -546.14794947 Ha\n",
      "Step = 486,  Energy = -546.14794950 Ha\n",
      "Step = 488,  Energy = -546.14794952 Ha\n",
      "Step = 490,  Energy = -546.14794955 Ha\n",
      "Step = 492,  Energy = -546.14794957 Ha\n",
      "Step = 494,  Energy = -546.14794959 Ha\n",
      "Step = 496,  Energy = -546.14794962 Ha\n",
      "Step = 498,  Energy = -546.14794964 Ha\n",
      "Step = 500,  Energy = -546.14794966 Ha\n",
      "Step = 502,  Energy = -546.14794969 Ha\n",
      "Step = 504,  Energy = -546.14794971 Ha\n",
      "Step = 506,  Energy = -546.14794973 Ha\n",
      "Step = 508,  Energy = -546.14794975 Ha\n",
      "Step = 510,  Energy = -546.14794977 Ha\n",
      "Step = 512,  Energy = -546.14794979 Ha\n",
      "Step = 514,  Energy = -546.14794981 Ha\n",
      "Step = 516,  Energy = -546.14794984 Ha\n",
      "Step = 518,  Energy = -546.14794986 Ha\n",
      "Step = 520,  Energy = -546.14794988 Ha\n",
      "\n",
      "Final value of the ground-state energy = -546.14794988 Ha\n",
      "\n",
      "Optimal value of the circuit parameter = 3.0524\n"
     ]
    }
   ],
   "source": [
    "theta = np.array(0.)\n",
    "\n",
    "# store the values of the cost function\n",
    "energy = [cost_fn(theta)]\n",
    "\n",
    "# store the values of the circuit parameter\n",
    "angle = [theta]\n",
    "\n",
    "opt_state = opt.init(theta)\n",
    "\n",
    "for n in range(max_iterations):\n",
    "\n",
    "    gradient = jax.grad(cost_fn)(theta)\n",
    "    updates, opt_state = opt.update(gradient, opt_state)\n",
    "    theta = optax.apply_updates(theta, updates)\n",
    "    \n",
    "    angle.append(theta)\n",
    "    energy.append(cost_fn(theta))\n",
    "\n",
    "    conv = np.abs(energy[-1] - energy[-2])\n",
    "\n",
    "    if n % 2 == 0:\n",
    "        print(f\"Step = {n},  Energy = {energy[-1]:.8f} Ha\")\n",
    "\n",
    "    if conv <= conv_tol:\n",
    "        break\n",
    "\n",
    "print(\"\\n\" f\"Final value of the ground-state energy = {energy[-1]:.8f} Ha\")\n",
    "print(\"\\n\" f\"Optimal value of the circuit parameter = {angle[-1]:.4f}\")"
   ]
  },
  {
   "cell_type": "markdown",
   "metadata": {},
   "source": [
    "Let\\'s plot the values of the ground state energy of the molecule and\n",
    "the gate parameter $\\theta$ as a function of the optimization step.\n"
   ]
  },
  {
   "cell_type": "code",
   "execution_count": 10,
   "metadata": {
    "collapsed": false,
    "jupyter": {
     "outputs_hidden": false
    }
   },
   "outputs": [
    {
     "data": {
      "image/png": "[encoded data removed]",
      "text/plain": [
       "<Figure size 1200x500 with 2 Axes>"
      ]
     },
     "metadata": {},
     "output_type": "display_data"
    }
   ],
   "source": [
    "import matplotlib.pyplot as plt\n",
    "\n",
    "fig = plt.figure()\n",
    "fig.set_figheight(5)\n",
    "fig.set_figwidth(12)\n",
    "\n",
    "# Full configuration interaction (FCI) energy computed classically\n",
    "E_fci = -548.0992098097419\n",
    "\n",
    "# Add energy plot on column 1\n",
    "ax1 = fig.add_subplot(121)\n",
    "ax1.plot(range(n + 2), energy, \"go\", ls=\"dashed\")\n",
    "ax1.plot(range(n + 2), np.full(n + 2, E_fci), color=\"red\")\n",
    "ax1.set_xlabel(\"Optimization step\", fontsize=13)\n",
    "ax1.set_ylabel(\"Energy (Hartree)\", fontsize=13)\n",
    "#ax1.text(0.5, -1.1176, r\"$E_\\mathrm{HF}$\", fontsize=15)\n",
    "ax1.text(0, -548.0992098097419, r\"$E_\\mathrm{FCI}$\", fontsize=15)\n",
    "plt.xticks(fontsize=12)\n",
    "plt.yticks(fontsize=12)\n",
    "\n",
    "# Add angle plot on column 2\n",
    "ax2 = fig.add_subplot(122)\n",
    "ax2.plot(range(n + 2), angle, \"go\", ls=\"dashed\")\n",
    "ax2.set_xlabel(\"Optimization step\", fontsize=13)\n",
    "ax2.set_ylabel(\"Gate parameter $\\\\theta$ (rad)\", fontsize=13)\n",
    "plt.xticks(fontsize=12)\n",
    "plt.yticks(fontsize=12)\n",
    "\n",
    "plt.subplots_adjust(wspace=0.3, bottom=0.2)\n",
    "plt.show()"
   ]
  },
  {
   "cell_type": "markdown",
   "metadata": {},
   "source": [
    "In this case, the VQE algorithm converges after thirteen iterations. The\n",
    "optimal value of the circuit parameter $\\theta^* = 0.208$ defines the\n",
    "state\n",
    "\n",
    "$$\\vert \\Psi(\\theta^*) \\rangle = 0.994~\\vert 1100 \\rangle - 0.104~\\vert 0011 \\rangle,$$\n",
    "\n",
    "which is precisely the ground state of the $\\mathrm{H}_2$ molecule in a\n",
    "minimal basis set approximation.\n",
    "\n",
    "Conclusion\n",
    "==========\n",
    "\n",
    "In this tutorial, we have implemented the VQE algorithm to find the\n",
    "ground state of the hydrogen molecule. We used a simple circuit to\n",
    "prepare quantum states of the molecule beyond the Hartree-Fock\n",
    "approximation. The ground-state energy was obtained by minimizing a cost\n",
    "function defined as the expectation value of the molecular Hamiltonian\n",
    "in the trial state.\n",
    "\n",
    "The VQE algorithm can be used to simulate other chemical phenomena. In\n",
    "the tutorial `tutorial_vqe_bond_dissociation`{.interpreted-text\n",
    "role=\"doc\"}, we use VQE to explore the potential energy surface of\n",
    "molecules to simulate chemical reactions. Another interesting\n",
    "application is to probe the lowest-lying states of molecules in specific\n",
    "sectors of the Hilbert space. For example, see the tutorial\n",
    "`tutorial_vqe_spin_sectors`{.interpreted-text role=\"doc\"}. Furthermore,\n",
    "the algorithm presented here can be generalized to find the equilibrium\n",
    "geometry of a molecule as it is demonstrated in the tutorial\n",
    "`tutorial_mol_geo_opt`{.interpreted-text role=\"doc\"}.\n",
    "\n",
    "References {#vqe_references}\n",
    "==========\n",
    "\n",
    "About the author\n",
    "================\n"
   ]
  },
  {
   "cell_type": "code",
   "execution_count": null,
   "metadata": {},
   "outputs": [],
   "source": []
  }
 ],
 "metadata": {
  "kernelspec": {
   "display_name": "Python 3 (ipykernel)",
   "language": "python",
   "name": "python3"
  },
  "language_info": {
   "codemirror_mode": {
    "name": "ipython",
    "version": 3
   },
   "file_extension": ".py",
   "mimetype": "text/x-python",
   "name": "python",
   "nbconvert_exporter": "python",
   "pygments_lexer": "ipython3",
   "version": "3.9.12"
  }
 },
 "nbformat": 4,
 "nbformat_minor": 4
}
