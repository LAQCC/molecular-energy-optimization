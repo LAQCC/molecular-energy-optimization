{
 "cells": [
  {
   "cell_type": "code",
   "execution_count": 10,
   "id": "3f405788-681c-4c77-bbca-708154bd37a1",
   "metadata": {
    "collapsed": false,
    "jupyter": {
     "outputs_hidden": false
    }
   },
   "outputs": [],
   "source": [
    "# This cell is added by sphinx-gallery\n",
    "# It can be customized to whatever you like\n",
    "%matplotlib inline"
   ]
  },
  {
   "cell_type": "code",
   "execution_count": 11,
   "id": "523cd2c4-2137-493a-aa1c-004b06aac560",
   "metadata": {
    "collapsed": false,
    "jupyter": {
     "outputs_hidden": false
    }
   },
   "outputs": [],
   "source": [
    "from jax import numpy as np\n",
    "import jax\n",
    "jax.config.update(\"jax_platform_name\", \"cpu\")\n",
    "jax.config.update('jax_enable_x64', True)"
   ]
  },
  {
   "cell_type": "code",
   "execution_count": 12,
   "id": "d395c0d1-4e4e-4c3b-87b2-ac997be8c128",
   "metadata": {
    "collapsed": false,
    "jupyter": {
     "outputs_hidden": false
    }
   },
   "outputs": [
    {
     "name": "stdout",
     "output_type": "stream",
     "text": [
      "Number of qubits =  12\n"
     ]
    }
   ],
   "source": [
    "import pennylane as qml\n",
    "import pickle\n",
    "\n",
    "with open('qubits_acai_6.pkl', 'rb') as file:\n",
    "    qubits = pickle.load(file)\n",
    "    \n",
    "with open('H_acai_6.pkl', 'rb') as fp:\n",
    "    H = pickle.load(fp) \n",
    "print(\"Number of qubits = \", qubits)"
   ]
  },
  {
   "cell_type": "markdown",
   "id": "a5bf963e-3d82-4d42-8210-d1971d2397c5",
   "metadata": {},
   "source": [
    "Implementing the VQE algorithm\n",
    "==============================\n",
    "\n",
    "From here on, we can use PennyLane as usual, employing its entire stack\n",
    "of algorithms and optimizers. We begin by defining the device, in this\n",
    "case PennyLane's standard qubit simulator:\n"
   ]
  },
  {
   "cell_type": "code",
   "execution_count": 13,
   "id": "1f66e48c-001d-4b40-9491-05a25261b5ec",
   "metadata": {
    "collapsed": false,
    "jupyter": {
     "outputs_hidden": false
    }
   },
   "outputs": [],
   "source": [
    "dev = qml.device(\"lightning.qubit\", wires=qubits)"
   ]
  },
  {
   "cell_type": "code",
   "execution_count": 14,
   "id": "e670eea2-dc2c-47f0-a19c-3568399a7a3f",
   "metadata": {
    "collapsed": false,
    "jupyter": {
     "outputs_hidden": false
    }
   },
   "outputs": [
    {
     "name": "stdout",
     "output_type": "stream",
     "text": [
      "[1 1 1 1 1 1 0 0 0 0 0 0]\n"
     ]
    }
   ],
   "source": [
    "electrons = int(qubits/2)\n",
    "hf = qml.qchem.hf_state(electrons, qubits)\n",
    "print(hf)"
   ]
  },
  {
   "cell_type": "markdown",
   "id": "74a64673-5dc4-4a8d-9e69-81173727a7d5",
   "metadata": {},
   "source": [
    "The `hf` array is used by the `~.pennylane.BasisState`{.interpreted-text\n",
    "role=\"class\"} operation to initialize the qubit register. Then, we just\n",
    "act with the `~.pennylane.DoubleExcitation`{.interpreted-text\n",
    "role=\"class\"} operation on the four qubits. The next step is to compute\n",
    "the expectation value of the molecular Hamiltonian in the trial state\n",
    "prepared by the circuit. We do this using the\n",
    "`~.expval`{.interpreted-text role=\"func\"} function. The decorator syntax\n",
    "allows us to run the cost function as an executable QNode with the gate\n",
    "parameter $\\theta$:\n"
   ]
  },
  {
   "cell_type": "code",
   "execution_count": 15,
   "id": "b60562f4-fb7f-4035-b0b2-00ea0b85aec7",
   "metadata": {
    "collapsed": false,
    "jupyter": {
     "outputs_hidden": false
    }
   },
   "outputs": [],
   "source": [
    "singles, doubles = qml.qchem.excitations(electrons, qubits)\n",
    "wires = range(qubits)\n",
    "\n",
    "@qml.qnode(dev)\n",
    "def circuit(weights, hf, singles, doubles):\n",
    "    qml.templates.AllSinglesDoubles(weights, wires, hf, singles, doubles)\n",
    "    return qml.expval(H)"
   ]
  },
  {
   "cell_type": "markdown",
   "id": "5dad2f11-1617-4b94-84b0-dcaa74e83b91",
   "metadata": {},
   "source": [
    "We can now define our error function simply as the expected value\n",
    "calculated above:\n"
   ]
  },
  {
   "cell_type": "code",
   "execution_count": 16,
   "id": "9a92aa3c-6b85-4d76-b41c-0200620aae76",
   "metadata": {
    "collapsed": false,
    "jupyter": {
     "outputs_hidden": false
    }
   },
   "outputs": [],
   "source": [
    "def cost_fn(param):\n",
    "    return circuit(param, hf, singles=singles, doubles=doubles)"
   ]
  },
  {
   "cell_type": "markdown",
   "id": "f1f7140d-5616-4383-b26e-61684661acdf",
   "metadata": {},
   "source": [
    "Now we proceed to minimize the cost function to find the ground state of\n",
    "the $\\mathrm{H}_2$ molecule. To start, we need to define the classical\n",
    "optimizer. The library `optax` offers different\n",
    "[optimizers](https://optax.readthedocs.io/en/latest/api.html). Here we\n",
    "use a basic gradient-descent optimizer. We carry out the optimization\n",
    "over a maximum of 100 steps aiming to reach a convergence tolerance of\n",
    "$10^{-6}$ for the value of the cost function.\n"
   ]
  },
  {
   "cell_type": "code",
   "execution_count": 17,
   "id": "586a69a1-b7cb-44c2-bc29-16c488537cb2",
   "metadata": {
    "collapsed": false,
    "jupyter": {
     "outputs_hidden": false
    }
   },
   "outputs": [],
   "source": [
    "import optax\n",
    "\n",
    "max_iterations = 120\n",
    "conv_tol = 1e-8\n",
    "\n",
    "opt = optax.sgd(learning_rate=0.5)"
   ]
  },
  {
   "cell_type": "markdown",
   "id": "e8dd4234-6548-4527-8cec-65ad0d714d32",
   "metadata": {},
   "source": [
    "We initialize the circuit parameter $\\theta$ to zero, meaning that we\n",
    "start from the Hartree-Fock state.\n"
   ]
  },
  {
   "cell_type": "code",
   "execution_count": 20,
   "id": "1c0cfee1-f37d-4dba-ba2d-eb6282eb0633",
   "metadata": {
    "collapsed": false,
    "jupyter": {
     "outputs_hidden": false
    }
   },
   "outputs": [
    {
     "name": "stdout",
     "output_type": "stream",
     "text": [
      "Step = 0,  Energy = -546.12620687 Ha\n",
      "Step = 2,  Energy = -546.64397780 Ha\n",
      "Step = 4,  Energy = -547.02412406 Ha\n",
      "Step = 6,  Energy = -547.30108060 Ha\n",
      "Step = 8,  Energy = -547.49994479 Ha\n",
      "Step = 10,  Energy = -547.65382604 Ha\n",
      "Step = 12,  Energy = -547.79207619 Ha\n",
      "Step = 14,  Energy = -547.92670330 Ha\n",
      "Step = 16,  Energy = -548.05495780 Ha\n",
      "Step = 18,  Energy = -548.16912493 Ha\n",
      "Step = 20,  Energy = -548.26467506 Ha\n",
      "Step = 22,  Energy = -548.34183449 Ha\n",
      "Step = 24,  Energy = -548.40338756 Ha\n",
      "Step = 26,  Energy = -548.45264935 Ha\n",
      "Step = 28,  Energy = -548.49251451 Ha\n",
      "Step = 30,  Energy = -548.52519067 Ha\n",
      "Step = 32,  Energy = -548.55224638 Ha\n",
      "Step = 34,  Energy = -548.57477015 Ha\n",
      "Step = 36,  Energy = -548.59353595 Ha\n",
      "Step = 38,  Energy = -548.60913065 Ha\n",
      "Step = 40,  Energy = -548.62203424 Ha\n",
      "Step = 42,  Energy = -548.63266158 Ha\n",
      "Step = 44,  Energy = -548.64137953 Ha\n",
      "Step = 46,  Energy = -548.64851186 Ha\n",
      "Step = 48,  Energy = -548.65434009 Ha\n",
      "Step = 50,  Energy = -548.65910446 Ha\n",
      "Step = 52,  Energy = -548.66300622 Ha\n",
      "Step = 54,  Energy = -548.66621138 Ha\n",
      "Step = 56,  Energy = -548.66885515 Ha\n",
      "Step = 58,  Energy = -548.67104669 Ha\n",
      "Step = 60,  Energy = -548.67287355 Ha\n",
      "Step = 62,  Energy = -548.67440566 Ha\n",
      "Step = 64,  Energy = -548.67569879 Ha\n",
      "Step = 66,  Energy = -548.67679737 Ha\n",
      "Step = 68,  Energy = -548.67773686 Ha\n",
      "Step = 70,  Energy = -548.67854562 Ha\n",
      "Step = 72,  Energy = -548.67924638 Ha\n",
      "Step = 74,  Energy = -548.67985741 Ha\n",
      "Step = 76,  Energy = -548.68039348 Ha\n",
      "Step = 78,  Energy = -548.68086659 Ha\n",
      "Step = 80,  Energy = -548.68128648 Ha\n",
      "Step = 82,  Energy = -548.68166116 Ha\n",
      "Step = 84,  Energy = -548.68199721 Ha\n",
      "Step = 86,  Energy = -548.68230006 Ha\n",
      "Step = 88,  Energy = -548.68257424 Ha\n",
      "Step = 90,  Energy = -548.68282352 Ha\n",
      "Step = 92,  Energy = -548.68305106 Ha\n",
      "Step = 94,  Energy = -548.68325955 Ha\n",
      "Step = 96,  Energy = -548.68345123 Ha\n",
      "Step = 98,  Energy = -548.68362805 Ha\n",
      "Step = 100,  Energy = -548.68379164 Ha\n",
      "Step = 102,  Energy = -548.68394343 Ha\n",
      "Step = 104,  Energy = -548.68408463 Ha\n",
      "Step = 106,  Energy = -548.68421630 Ha\n",
      "Step = 108,  Energy = -548.68433936 Ha\n",
      "Step = 110,  Energy = -548.68445463 Ha\n",
      "Step = 112,  Energy = -548.68456279 Ha\n",
      "Step = 114,  Energy = -548.68466448 Ha\n",
      "Step = 116,  Energy = -548.68476025 Ha\n",
      "Step = 118,  Energy = -548.68485058 Ha\n",
      "\n",
      "Final value of the ground-state energy = -548.68489385 Ha\n"
     ]
    }
   ],
   "source": [
    "import numpy as np\n",
    "\n",
    "theta = np.random.normal(0, np.pi, len(singles) + len(doubles))\n",
    "\n",
    "#theta = np.array(0.)\n",
    "\n",
    "# store the values of the cost function\n",
    "energy = [cost_fn(theta)]\n",
    "\n",
    "# store the values of the circuit parameter\n",
    "angle = [theta]\n",
    "\n",
    "opt_state = opt.init(theta)\n",
    "\n",
    "for n in range(max_iterations):\n",
    "    gradient = jax.grad(cost_fn)(theta)\n",
    "    updates, opt_state = opt.update(gradient, opt_state)\n",
    "    theta = optax.apply_updates(theta, updates)\n",
    "    \n",
    "    angle.append(theta)\n",
    "    energy.append(cost_fn(theta))\n",
    "\n",
    "    conv = np.abs(energy[-1] - energy[-2])\n",
    "\n",
    "    if n % 2 == 0:\n",
    "        print(f\"Step = {n},  Energy = {energy[-1]:.8f} Ha\")\n",
    "\n",
    "    if conv <= conv_tol:\n",
    "        break\n",
    "\n",
    "print(\"\\n\" f\"Final value of the ground-state energy = {energy[-1]:.8f} Ha\")\n",
    "# print(\"\\n\" f\"Optimal value of the circuit parameter = {angle[-1]:.4f}\")"
   ]
  },
  {
   "cell_type": "markdown",
   "id": "980c35a7-d42e-4863-870e-4aa7f8cbc14c",
   "metadata": {},
   "source": [
    "Let\\'s plot the values of the ground state energy of the molecule and\n",
    "the gate parameter $\\theta$ as a function of the optimization step.\n"
   ]
  },
  {
   "cell_type": "code",
   "execution_count": 21,
   "id": "ff67b9b5-3ce4-48b1-8917-39b8717e473e",
   "metadata": {
    "collapsed": false,
    "jupyter": {
     "outputs_hidden": false
    }
   },
   "outputs": [
    {
     "data": {
      "image/png": "[encoded data removed]",
      "text/plain": [
       "<Figure size 1200x500 with 2 Axes>"
      ]
     },
     "metadata": {},
     "output_type": "display_data"
    }
   ],
   "source": [
    "import matplotlib.pyplot as plt\n",
    "\n",
    "fig = plt.figure()\n",
    "fig.set_figheight(5)\n",
    "fig.set_figwidth(12)\n",
    "\n",
    "# Full configuration interaction (FCI) energy computed classically\n",
    "E_fci = -548.7562141491051\n",
    "\n",
    "# Add energy plot on column 1\n",
    "ax1 = fig.add_subplot(121)\n",
    "ax1.plot(range(n + 2), energy, \"go\", ls=\"dashed\")\n",
    "ax1.plot(range(n + 2), np.full(n + 2, E_fci), color=\"red\")\n",
    "ax1.set_xlabel(\"Optimization step\", fontsize=13)\n",
    "ax1.set_ylabel(\"Energy (Hartree)\", fontsize=13)\n",
    "#ax1.text(0.5, -1.1176, r\"$E_\\mathrm{HF}$\", fontsize=15)\n",
    "ax1.text(0, -548.7562141491051, r\"$E_\\mathrm{FCI}$\", fontsize=15)\n",
    "plt.xticks(fontsize=12)\n",
    "plt.yticks(fontsize=12)\n",
    "\n",
    "# Add angle plot on column 2\n",
    "ax2 = fig.add_subplot(122)\n",
    "ax2.plot(range(n + 2), angle, \"go\", ls=\"dashed\")\n",
    "ax2.set_xlabel(\"Optimization step\", fontsize=13)\n",
    "ax2.set_ylabel(\"Gate parameter $\\\\theta$ (rad)\", fontsize=13)\n",
    "plt.xticks(fontsize=12)\n",
    "plt.yticks(fontsize=12)\n",
    "\n",
    "plt.subplots_adjust(wspace=0.3, bottom=0.2)\n",
    "plt.show()"
   ]
  },
  {
   "cell_type": "markdown",
   "id": "9b99fc77-9522-45cd-9cf3-50943457ceca",
   "metadata": {},
   "source": [
    "In this case, the VQE algorithm converges after thirteen iterations. The\n",
    "optimal value of the circuit parameter $\\theta^* = 0.208$ defines the\n",
    "state\n",
    "\n",
    "$$\\vert \\Psi(\\theta^*) \\rangle = 0.994~\\vert 1100 \\rangle - 0.104~\\vert 0011 \\rangle,$$\n",
    "\n",
    "which is precisely the ground state of the $\\mathrm{H}_2$ molecule in a\n",
    "minimal basis set approximation.\n",
    "\n",
    "Conclusion\n",
    "==========\n",
    "\n",
    "In this tutorial, we have implemented the VQE algorithm to find the\n",
    "ground state of the hydrogen molecule. We used a simple circuit to\n",
    "prepare quantum states of the molecule beyond the Hartree-Fock\n",
    "approximation. The ground-state energy was obtained by minimizing a cost\n",
    "function defined as the expectation value of the molecular Hamiltonian\n",
    "in the trial state.\n",
    "\n",
    "The VQE algorithm can be used to simulate other chemical phenomena. In\n",
    "the tutorial `tutorial_vqe_bond_dissociation`{.interpreted-text\n",
    "role=\"doc\"}, we use VQE to explore the potential energy surface of\n",
    "molecules to simulate chemical reactions. Another interesting\n",
    "application is to probe the lowest-lying states of molecules in specific\n",
    "sectors of the Hilbert space. For example, see the tutorial\n",
    "`tutorial_vqe_spin_sectors`{.interpreted-text role=\"doc\"}. Furthermore,\n",
    "the algorithm presented here can be generalized to find the equilibrium\n",
    "geometry of a molecule as it is demonstrated in the tutorial\n",
    "`tutorial_mol_geo_opt`{.interpreted-text role=\"doc\"}.\n",
    "\n",
    "References {#vqe_references}\n",
    "==========\n",
    "\n",
    "About the author\n",
    "================\n"
   ]
  },
  {
   "cell_type": "code",
   "execution_count": null,
   "id": "912c4b3f-ca7f-4c8c-ac5f-08a4dd70dda9",
   "metadata": {},
   "outputs": [],
   "source": []
  }
 ],
 "metadata": {
  "kernelspec": {
   "display_name": "Python 3 (ipykernel)",
   "language": "python",
   "name": "python3"
  },
  "language_info": {
   "codemirror_mode": {
    "name": "ipython",
    "version": 3
   },
   "file_extension": ".py",
   "mimetype": "text/x-python",
   "name": "python",
   "nbconvert_exporter": "python",
   "pygments_lexer": "ipython3",
   "version": "3.9.7"
  }
 },
 "nbformat": 4,
 "nbformat_minor": 5
}
