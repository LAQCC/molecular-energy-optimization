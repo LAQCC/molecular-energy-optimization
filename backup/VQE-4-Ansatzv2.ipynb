{
 "cells": [
  {
   "cell_type": "code",
   "execution_count": 1,
   "metadata": {
    "collapsed": false,
    "jupyter": {
     "outputs_hidden": false
    }
   },
   "outputs": [],
   "source": [
    "# This cell is added by sphinx-gallery\n",
    "# It can be customized to whatever you like\n",
    "%matplotlib inline"
   ]
  },
  {
   "cell_type": "code",
   "execution_count": 2,
   "metadata": {
    "collapsed": false,
    "jupyter": {
     "outputs_hidden": false
    }
   },
   "outputs": [],
   "source": [
    "from jax import numpy as np\n",
    "import jax\n",
    "jax.config.update(\"jax_platform_name\", \"cpu\")\n",
    "jax.config.update('jax_enable_x64', True)"
   ]
  },
  {
   "cell_type": "code",
   "execution_count": 3,
   "metadata": {
    "collapsed": false,
    "jupyter": {
     "outputs_hidden": false
    }
   },
   "outputs": [
    {
     "name": "stdout",
     "output_type": "stream",
     "text": [
      "Number of qubits =  8\n"
     ]
    }
   ],
   "source": [
    "import pennylane as qml\n",
    "import pickle\n",
    "\n",
    "with open('qubits_acai_4.pkl', 'rb') as file:\n",
    "    qubits = pickle.load(file)\n",
    "    \n",
    "with open('H_acai_4.pkl', 'rb') as fp:\n",
    "    H = pickle.load(fp) \n",
    "print(\"Number of qubits = \", qubits)"
   ]
  },
  {
   "cell_type": "markdown",
   "metadata": {},
   "source": [
    "Implementing the VQE algorithm\n",
    "==============================\n",
    "\n",
    "From here on, we can use PennyLane as usual, employing its entire stack\n",
    "of algorithms and optimizers. We begin by defining the device, in this\n",
    "case PennyLane's standard qubit simulator:\n"
   ]
  },
  {
   "cell_type": "code",
   "execution_count": 4,
   "metadata": {
    "collapsed": false,
    "jupyter": {
     "outputs_hidden": false
    }
   },
   "outputs": [],
   "source": [
    "dev = qml.device(\"lightning.qubit\", wires=qubits)"
   ]
  },
  {
   "cell_type": "code",
   "execution_count": 5,
   "metadata": {
    "collapsed": false,
    "jupyter": {
     "outputs_hidden": false
    }
   },
   "outputs": [
    {
     "name": "stdout",
     "output_type": "stream",
     "text": [
      "[1 1 1 1 0 0 0 0]\n"
     ]
    }
   ],
   "source": [
    "electrons = 4\n",
    "hf = qml.qchem.hf_state(electrons, qubits)\n",
    "print(hf)"
   ]
  },
  {
   "cell_type": "markdown",
   "metadata": {},
   "source": [
    "The `hf` array is used by the `~.pennylane.BasisState`{.interpreted-text\n",
    "role=\"class\"} operation to initialize the qubit register. Then, we just\n",
    "act with the `~.pennylane.DoubleExcitation`{.interpreted-text\n",
    "role=\"class\"} operation on the four qubits. The next step is to compute\n",
    "the expectation value of the molecular Hamiltonian in the trial state\n",
    "prepared by the circuit. We do this using the\n",
    "`~.expval`{.interpreted-text role=\"func\"} function. The decorator syntax\n",
    "allows us to run the cost function as an executable QNode with the gate\n",
    "parameter $\\theta$:\n"
   ]
  },
  {
   "cell_type": "code",
   "execution_count": 6,
   "metadata": {
    "collapsed": false,
    "jupyter": {
     "outputs_hidden": false
    }
   },
   "outputs": [],
   "source": [
    "@qml.qnode(dev)\n",
    "def circuit(param, wires):\n",
    "    qml.BasisState(hf, wires=wires)\n",
    "    for i in range(8):\n",
    "        qml.Hadamard(wires=i)\n",
    "    qml.RY(param, wires=0)      \n",
    "    qml.CNOT(wires=[0,1])\n",
    "    qml.RY(param, wires=1)      \n",
    "    qml.CNOT(wires=[1,2])\n",
    "    qml.RY(param, wires=2)      \n",
    "    qml.CNOT(wires=[2,3])\n",
    "    qml.RY(param, wires=3)      \n",
    "    qml.CNOT(wires=[3,4])\n",
    "    qml.RY(param, wires=4)     \n",
    "    qml.CNOT(wires=[4,5])\n",
    "    qml.RY(param, wires=5)      \n",
    "    qml.CNOT(wires=[5,6])\n",
    "    qml.RY(param, wires=6)      \n",
    "    qml.CNOT(wires=[6,7])\n",
    "    return qml.expval(H)"
   ]
  },
  {
   "cell_type": "markdown",
   "metadata": {},
   "source": [
    "We can now define our error function simply as the expected value\n",
    "calculated above:\n"
   ]
  },
  {
   "cell_type": "code",
   "execution_count": 7,
   "metadata": {
    "collapsed": false,
    "jupyter": {
     "outputs_hidden": false
    }
   },
   "outputs": [],
   "source": [
    "def cost_fn(param):\n",
    "    return circuit(param, wires=range(qubits))"
   ]
  },
  {
   "cell_type": "markdown",
   "metadata": {},
   "source": [
    "Now we proceed to minimize the cost function to find the ground state of\n",
    "the $\\mathrm{H}_2$ molecule. To start, we need to define the classical\n",
    "optimizer. The library `optax` offers different\n",
    "[optimizers](https://optax.readthedocs.io/en/latest/api.html). Here we\n",
    "use a basic gradient-descent optimizer. We carry out the optimization\n",
    "over a maximum of 100 steps aiming to reach a convergence tolerance of\n",
    "$10^{-6}$ for the value of the cost function.\n"
   ]
  },
  {
   "cell_type": "code",
   "execution_count": 8,
   "metadata": {
    "collapsed": false,
    "jupyter": {
     "outputs_hidden": false
    }
   },
   "outputs": [],
   "source": [
    "import optax\n",
    "\n",
    "max_iterations = 150\n",
    "conv_tol = 1e-8\n",
    "\n",
    "opt = optax.sgd(learning_rate=0.5)"
   ]
  },
  {
   "cell_type": "markdown",
   "metadata": {},
   "source": [
    "We initialize the circuit parameter $\\theta$ to zero, meaning that we\n",
    "start from the Hartree-Fock state.\n"
   ]
  },
  {
   "cell_type": "code",
   "execution_count": 9,
   "metadata": {
    "collapsed": false,
    "jupyter": {
     "outputs_hidden": false
    }
   },
   "outputs": [
    {
     "name": "stderr",
     "output_type": "stream",
     "text": [
      "An NVIDIA GPU may be present on this machine, but a CUDA-enabled jaxlib is not installed. Falling back to cpu.\n",
      "/home/gleydson.jesus/.local/lib/python3.9/site-packages/pennylane/math/utils.py:227: UserWarning: Contains tensors of types {'jax', 'autograd'}; dispatch will prioritize TensorFlow, PyTorch, and  Jax over Autograd. Consider replacing Autograd with vanilla NumPy.\n",
      "  warnings.warn(\n"
     ]
    },
    {
     "name": "stdout",
     "output_type": "stream",
     "text": [
      "Step = 0,  Energy = -545.94527388 Ha\n",
      "Step = 2,  Energy = -546.01957733 Ha\n",
      "Step = 4,  Energy = -546.03184721 Ha\n",
      "Step = 6,  Energy = -546.03436908 Ha\n",
      "Step = 8,  Energy = -546.03497695 Ha\n",
      "Step = 10,  Energy = -546.03513640 Ha\n",
      "Step = 12,  Energy = -546.03518011 Ha\n",
      "Step = 14,  Energy = -546.03519238 Ha\n",
      "Step = 16,  Energy = -546.03519587 Ha\n",
      "Step = 18,  Energy = -546.03519686 Ha\n",
      "Step = 20,  Energy = -546.03519715 Ha\n",
      "Step = 22,  Energy = -546.03519723 Ha\n",
      "Step = 24,  Energy = -546.03519726 Ha\n",
      "\n",
      "Final value of the ground-state energy = -546.03519726 Ha\n",
      "\n",
      "Optimal value of the circuit parameter = 0.7910\n"
     ]
    }
   ],
   "source": [
    "theta = np.array(0.)\n",
    "\n",
    "# store the values of the cost function\n",
    "energy = [cost_fn(theta)]\n",
    "\n",
    "# store the values of the circuit parameter\n",
    "angle = [theta]\n",
    "\n",
    "opt_state = opt.init(theta)\n",
    "\n",
    "for n in range(max_iterations):\n",
    "\n",
    "    gradient = jax.grad(cost_fn)(theta)\n",
    "    updates, opt_state = opt.update(gradient, opt_state)\n",
    "    theta = optax.apply_updates(theta, updates)\n",
    "    \n",
    "    angle.append(theta)\n",
    "    energy.append(cost_fn(theta))\n",
    "\n",
    "    conv = np.abs(energy[-1] - energy[-2])\n",
    "\n",
    "    if n % 2 == 0:\n",
    "        print(f\"Step = {n},  Energy = {energy[-1]:.8f} Ha\")\n",
    "\n",
    "    if conv <= conv_tol:\n",
    "        break\n",
    "\n",
    "print(\"\\n\" f\"Final value of the ground-state energy = {energy[-1]:.8f} Ha\")\n",
    "print(\"\\n\" f\"Optimal value of the circuit parameter = {angle[-1]:.4f}\")"
   ]
  },
  {
   "cell_type": "markdown",
   "metadata": {},
   "source": [
    "Let\\'s plot the values of the ground state energy of the molecule and\n",
    "the gate parameter $\\theta$ as a function of the optimization step.\n"
   ]
  },
  {
   "cell_type": "code",
   "execution_count": 10,
   "metadata": {
    "collapsed": false,
    "jupyter": {
     "outputs_hidden": false
    }
   },
   "outputs": [
    {
     "data": {
      "image/png": "[encoded data removed]",
      "text/plain": [
       "<Figure size 1200x500 with 2 Axes>"
      ]
     },
     "metadata": {},
     "output_type": "display_data"
    }
   ],
   "source": [
    "import matplotlib.pyplot as plt\n",
    "\n",
    "fig = plt.figure()\n",
    "fig.set_figheight(5)\n",
    "fig.set_figwidth(12)\n",
    "\n",
    "# Full configuration interaction (FCI) energy computed classically\n",
    "E_fci = -548.0992098097419\n",
    "\n",
    "# Add energy plot on column 1\n",
    "ax1 = fig.add_subplot(121)\n",
    "ax1.plot(range(n + 2), energy, \"go\", ls=\"dashed\")\n",
    "ax1.plot(range(n + 2), np.full(n + 2, E_fci), color=\"red\")\n",
    "ax1.set_xlabel(\"Optimization step\", fontsize=13)\n",
    "ax1.set_ylabel(\"Energy (Hartree)\", fontsize=13)\n",
    "#ax1.text(0.5, -1.1176, r\"$E_\\mathrm{HF}$\", fontsize=15)\n",
    "ax1.text(0, -548.0992098097419, r\"$E_\\mathrm{FCI}$\", fontsize=15)\n",
    "plt.xticks(fontsize=12)\n",
    "plt.yticks(fontsize=12)\n",
    "\n",
    "# Add angle plot on column 2\n",
    "ax2 = fig.add_subplot(122)\n",
    "ax2.plot(range(n + 2), angle, \"go\", ls=\"dashed\")\n",
    "ax2.set_xlabel(\"Optimization step\", fontsize=13)\n",
    "ax2.set_ylabel(\"Gate parameter $\\\\theta$ (rad)\", fontsize=13)\n",
    "plt.xticks(fontsize=12)\n",
    "plt.yticks(fontsize=12)\n",
    "\n",
    "plt.subplots_adjust(wspace=0.3, bottom=0.2)\n",
    "plt.show()"
   ]
  },
  {
   "cell_type": "markdown",
   "metadata": {},
   "source": [
    "In this case, the VQE algorithm converges after thirteen iterations. The\n",
    "optimal value of the circuit parameter $\\theta^* = 0.208$ defines the\n",
    "state\n",
    "\n",
    "$$\\vert \\Psi(\\theta^*) \\rangle = 0.994~\\vert 1100 \\rangle - 0.104~\\vert 0011 \\rangle,$$\n",
    "\n",
    "which is precisely the ground state of the $\\mathrm{H}_2$ molecule in a\n",
    "minimal basis set approximation.\n",
    "\n",
    "Conclusion\n",
    "==========\n",
    "\n",
    "In this tutorial, we have implemented the VQE algorithm to find the\n",
    "ground state of the hydrogen molecule. We used a simple circuit to\n",
    "prepare quantum states of the molecule beyond the Hartree-Fock\n",
    "approximation. The ground-state energy was obtained by minimizing a cost\n",
    "function defined as the expectation value of the molecular Hamiltonian\n",
    "in the trial state.\n",
    "\n",
    "The VQE algorithm can be used to simulate other chemical phenomena. In\n",
    "the tutorial `tutorial_vqe_bond_dissociation`{.interpreted-text\n",
    "role=\"doc\"}, we use VQE to explore the potential energy surface of\n",
    "molecules to simulate chemical reactions. Another interesting\n",
    "application is to probe the lowest-lying states of molecules in specific\n",
    "sectors of the Hilbert space. For example, see the tutorial\n",
    "`tutorial_vqe_spin_sectors`{.interpreted-text role=\"doc\"}. Furthermore,\n",
    "the algorithm presented here can be generalized to find the equilibrium\n",
    "geometry of a molecule as it is demonstrated in the tutorial\n",
    "`tutorial_mol_geo_opt`{.interpreted-text role=\"doc\"}.\n",
    "\n",
    "References {#vqe_references}\n",
    "==========\n",
    "\n",
    "About the author\n",
    "================\n"
   ]
  },
  {
   "cell_type": "code",
   "execution_count": null,
   "metadata": {},
   "outputs": [],
   "source": []
  }
 ],
 "metadata": {
  "kernelspec": {
   "display_name": "Python 3 (ipykernel)",
   "language": "python",
   "name": "python3"
  },
  "language_info": {
   "codemirror_mode": {
    "name": "ipython",
    "version": 3
   },
   "file_extension": ".py",
   "mimetype": "text/x-python",
   "name": "python",
   "nbconvert_exporter": "python",
   "pygments_lexer": "ipython3",
   "version": "3.9.12"
  }
 },
 "nbformat": 4,
 "nbformat_minor": 4
}
